{
  "cells": [
    {
      "metadata": {},
      "cell_type": "markdown",
      "source": "### Requirements:"
    },
    {
      "metadata": {
        "trusted": true,
        "scrolled": false
      },
      "cell_type": "code",
      "source": "!pip install --upgrade pip\n!pip install geopy\n!pip install folium\n!pip install plotly\n!pip install dash\n",
      "execution_count": 1,
      "outputs": [
        {
          "output_type": "stream",
          "text": "Collecting pip\n\u001b[?25l  Downloading https://files.pythonhosted.org/packages/bd/b1/56a834acdbe23b486dea16aaf4c27ed28eb292695b90d01dff96c96597de/pip-20.2.1-py2.py3-none-any.whl (1.5MB)\n\u001b[K     |████████████████████████████████| 1.5MB 3.2MB/s eta 0:00:01\n^C\n\u001b[31mERROR: Operation cancelled by user\u001b[0m\nCollecting geopy\n\u001b[?25l  Downloading https://files.pythonhosted.org/packages/07/e1/9c72de674d5c2b8fcb0738a5ceeb5424941fefa080bfe4e240d0bacb5a38/geopy-2.0.0-py3-none-any.whl (111kB)\n\u001b[K     |████████████████████████████████| 112kB 3.4MB/s eta 0:00:01\n\u001b[?25hCollecting geographiclib<2,>=1.49\n  Downloading https://files.pythonhosted.org/packages/8b/62/26ec95a98ba64299163199e95ad1b0e34ad3f4e176e221c40245f211e425/geographiclib-1.50-py3-none-any.whl\nInstalling collected packages: geographiclib, geopy\nSuccessfully installed geographiclib-1.50 geopy-2.0.0\n\u001b[33mWARNING: You are using pip version 19.3.1; however, version 20.2.1 is available.\nYou should consider upgrading via the 'pip install --upgrade pip' command.\u001b[0m\nRequirement already satisfied: folium in /home/nbuser/anaconda3_501/lib/python3.6/site-packages (0.2.1)\nRequirement already satisfied: Jinja2 in /home/nbuser/anaconda3_501/lib/python3.6/site-packages (from folium) (2.10)\nRequirement already satisfied: MarkupSafe>=0.23 in /home/nbuser/anaconda3_501/lib/python3.6/site-packages (from Jinja2->folium) (1.1.0)\n\u001b[33mWARNING: You are using pip version 19.3.1; however, version 20.2.1 is available.\nYou should consider upgrading via the 'pip install --upgrade pip' command.\u001b[0m\nRequirement already satisfied: plotly in /home/nbuser/anaconda3_501/lib/python3.6/site-packages (4.2.1)\nRequirement already satisfied: retrying>=1.3.3 in /home/nbuser/anaconda3_501/lib/python3.6/site-packages (from plotly) (1.3.3)\nRequirement already satisfied: six in /home/nbuser/anaconda3_501/lib/python3.6/site-packages (from plotly) (1.11.0)\n\u001b[33mWARNING: You are using pip version 19.3.1; however, version 20.2.1 is available.\nYou should consider upgrading via the 'pip install --upgrade pip' command.\u001b[0m\nCollecting dash\n\u001b[?25l  Downloading https://files.pythonhosted.org/packages/1d/d1/191ad32bd9e6d10b2fc0f5d31e9e6a85fdb2642088658f75817d67bdeaea/dash-1.14.0.tar.gz (70kB)\n\u001b[K     |████████████████████████████████| 71kB 579kB/s eta 0:00:011\n\u001b[?25hRequirement already satisfied: Flask>=1.0.2 in /home/nbuser/anaconda3_501/lib/python3.6/site-packages (from dash) (1.0.3)\nCollecting flask-compress\n  Downloading https://files.pythonhosted.org/packages/a0/96/cd684c1ffe97b513303b5bfd4bbfb4114c5f4a5ea8a737af6fd813273df8/Flask-Compress-1.5.0.tar.gz\nRequirement already satisfied: plotly in /home/nbuser/anaconda3_501/lib/python3.6/site-packages (from dash) (4.2.1)\nCollecting dash_renderer==1.6.0\n\u001b[?25l  Downloading https://files.pythonhosted.org/packages/da/a6/ddbcd01c638a2c235bfe13fd75155b344c7b7ab1c6466fe6d46b159897ad/dash_renderer-1.6.0.tar.gz (1.2MB)\n\u001b[K     |████████████████████████████████| 1.2MB 6.0MB/s eta 0:00:01\n\u001b[?25hCollecting dash-core-components==1.10.2\n\u001b[?25l  Downloading https://files.pythonhosted.org/packages/ee/74/f961bb01aa015b76c60045cf8ad5d9eb2279656f4483b42750ec3b925c9c/dash_core_components-1.10.2.tar.gz (3.4MB)\n\u001b[K     |████████████████████████████████| 3.4MB 10.6MB/s eta 0:00:01\n\u001b[?25hCollecting dash-html-components==1.0.3\n\u001b[?25l  Downloading https://files.pythonhosted.org/packages/da/20/46714ae501ccf16e5e37ca160c06e27347d19889687454168730e6744cdc/dash_html_components-1.0.3.tar.gz (187kB)\n\u001b[K     |████████████████████████████████| 194kB 19.5MB/s eta 0:00:01\n\u001b[?25hCollecting dash-table==4.9.0\n\u001b[?25l  Downloading https://files.pythonhosted.org/packages/54/9f/11347b397b840b67481f6ecadefb64de0b57d199752d5e182161a4217f1d/dash_table-4.9.0.tar.gz (1.8MB)\n\u001b[K     |████████████████████████████████| 1.8MB 15.2MB/s eta 0:00:01\n\u001b[?25hRequirement already satisfied: future in /home/nbuser/anaconda3_501/lib/python3.6/site-packages (from dash) (0.16.0)\nRequirement already satisfied: click>=5.1 in /home/nbuser/anaconda3_501/lib/python3.6/site-packages (from Flask>=1.0.2->dash) (7.0)\nRequirement already satisfied: Werkzeug>=0.14 in /home/nbuser/anaconda3_501/lib/python3.6/site-packages (from Flask>=1.0.2->dash) (0.14.1)\nRequirement already satisfied: itsdangerous>=0.24 in /home/nbuser/anaconda3_501/lib/python3.6/site-packages (from Flask>=1.0.2->dash) (0.24)\nRequirement already satisfied: Jinja2>=2.10 in /home/nbuser/anaconda3_501/lib/python3.6/site-packages (from Flask>=1.0.2->dash) (2.10)\nCollecting brotli\n\u001b[?25l  Downloading https://files.pythonhosted.org/packages/f4/68/60a220454dc5083c6d59b41aa90bb1c96fad62a0abf3a33e0ef64b38638a/Brotli-1.0.7-cp36-cp36m-manylinux1_x86_64.whl (352kB)\n\u001b[K     |████████████████████████████████| 358kB 14.7MB/s eta 0:00:01\n\u001b[?25hRequirement already satisfied: retrying>=1.3.3 in /home/nbuser/anaconda3_501/lib/python3.6/site-packages (from plotly->dash) (1.3.3)\nRequirement already satisfied: six in /home/nbuser/anaconda3_501/lib/python3.6/site-packages (from plotly->dash) (1.11.0)\nRequirement already satisfied: MarkupSafe>=0.23 in /home/nbuser/anaconda3_501/lib/python3.6/site-packages (from Jinja2>=2.10->Flask>=1.0.2->dash) (1.1.0)\nBuilding wheels for collected packages: dash, flask-compress, dash-renderer, dash-core-components, dash-html-components, dash-table\n  Building wheel for dash (setup.py) ... \u001b[?25ldone\n\u001b[?25h  Created wheel for dash: filename=dash-1.14.0-cp36-none-any.whl size=82734 sha256=33a782721e5786c2777d8cb55871e755202352b9ee7e42a066fb108c11784253\n  Stored in directory: /home/nbuser/.cache/pip/wheels/1d/54/0b/e846f762d47e8abc9234419822d013dfb2ccf957b48e411dc6\n  Building wheel for flask-compress (setup.py) ... \u001b[?25ldone\n\u001b[?25h  Created wheel for flask-compress: filename=Flask_Compress-1.5.0-cp36-none-any.whl size=6902 sha256=a7264ece054da9300d73c060c1bf35efc83d55ce9094b689f7d8e368b6efc6ac\n  Stored in directory: /home/nbuser/.cache/pip/wheels/f7/e9/e4/5afc286be7c87461375e33152558415dfeb0c8f5af3b50e742\n  Building wheel for dash-renderer (setup.py) ... \u001b[?25ldone\n\u001b[?25h  Created wheel for dash-renderer: filename=dash_renderer-1.6.0-cp36-none-any.whl size=1182910 sha256=7ba83d2a892661e9d96b7868bf1495bc3d1085be524dc0321d5d84bb6d671ed8\n  Stored in directory: /home/nbuser/.cache/pip/wheels/2a/de/21/8774fe1ae2271c4747c55c5bcd3e914302a7a6e55a77d866f2\n  Building wheel for dash-core-components (setup.py) ... \u001b[?25ldone\n\u001b[?25h  Created wheel for dash-core-components: filename=dash_core_components-1.10.2-cp36-none-any.whl size=3458042 sha256=52ad8f591d5992a311e291a6d85bfdcacee6d241207e3841e891717e3f09e6a4\n  Stored in directory: /home/nbuser/.cache/pip/wheels/2a/38/71/0c7e350a8280f6c94a2024a4d16ba905dd2a86ed2aa4a093e3\n  Building wheel for dash-html-components (setup.py) ... \u001b[?25ldone\n\u001b[?25h  Created wheel for dash-html-components: filename=dash_html_components-1.0.3-cp36-none-any.whl size=428352 sha256=a5c67acfbc919011db6b139215616c35b191ee5b3f0533dc47284f1fc2fbfa34\n  Stored in directory: /home/nbuser/.cache/pip/wheels/22/c0/79/ef4c2b20a23dc8457ae75c3da5f63163db213d86e13e00fe26\n  Building wheel for dash-table (setup.py) ... \u001b[?25ldone\n\u001b[?25h  Created wheel for dash-table: filename=dash_table-4.9.0-cp36-none-any.whl size=1780584 sha256=ff0df673ec0a07106a64765231b96d0ac38c1a5ec2ed228f8fa30fa3626ac835\n  Stored in directory: /home/nbuser/.cache/pip/wheels/f6/99/e4/a3af0a6f2d07ace02dd25984c08294d2749818c38f44d55338\nSuccessfully built dash flask-compress dash-renderer dash-core-components dash-html-components dash-table\nInstalling collected packages: brotli, flask-compress, dash-renderer, dash-core-components, dash-html-components, dash-table, dash\nSuccessfully installed brotli-1.0.7 dash-1.14.0 dash-core-components-1.10.2 dash-html-components-1.0.3 dash-renderer-1.6.0 dash-table-4.9.0 flask-compress-1.5.0\n\u001b[33mWARNING: You are using pip version 19.3.1; however, version 20.2.1 is available.\nYou should consider upgrading via the 'pip install --upgrade pip' command.\u001b[0m\n",
          "name": "stdout"
        }
      ]
    },
    {
      "metadata": {
        "trusted": true
      },
      "cell_type": "code",
      "source": "",
      "execution_count": null,
      "outputs": []
    },
    {
      "metadata": {
        "trusted": true
      },
      "cell_type": "code",
      "source": "",
      "execution_count": null,
      "outputs": []
    },
    {
      "metadata": {
        "trusted": true
      },
      "cell_type": "code",
      "source": "",
      "execution_count": null,
      "outputs": []
    },
    {
      "metadata": {
        "trusted": true
      },
      "cell_type": "code",
      "source": "",
      "execution_count": null,
      "outputs": []
    },
    {
      "metadata": {
        "trusted": true
      },
      "cell_type": "code",
      "source": "",
      "execution_count": null,
      "outputs": []
    },
    {
      "metadata": {
        "trusted": true
      },
      "cell_type": "code",
      "source": "",
      "execution_count": null,
      "outputs": []
    },
    {
      "metadata": {
        "trusted": true
      },
      "cell_type": "code",
      "source": "",
      "execution_count": null,
      "outputs": []
    },
    {
      "metadata": {
        "trusted": true
      },
      "cell_type": "code",
      "source": "",
      "execution_count": null,
      "outputs": []
    },
    {
      "metadata": {
        "trusted": true
      },
      "cell_type": "code",
      "source": "",
      "execution_count": null,
      "outputs": []
    },
    {
      "metadata": {
        "trusted": true
      },
      "cell_type": "code",
      "source": "",
      "execution_count": null,
      "outputs": []
    },
    {
      "metadata": {
        "trusted": true
      },
      "cell_type": "code",
      "source": "",
      "execution_count": null,
      "outputs": []
    },
    {
      "metadata": {
        "trusted": true
      },
      "cell_type": "code",
      "source": "",
      "execution_count": null,
      "outputs": []
    },
    {
      "metadata": {
        "trusted": true
      },
      "cell_type": "code",
      "source": "",
      "execution_count": null,
      "outputs": []
    },
    {
      "metadata": {
        "trusted": true
      },
      "cell_type": "code",
      "source": "",
      "execution_count": null,
      "outputs": []
    },
    {
      "metadata": {
        "trusted": true
      },
      "cell_type": "code",
      "source": "",
      "execution_count": null,
      "outputs": []
    },
    {
      "metadata": {
        "trusted": true
      },
      "cell_type": "code",
      "source": "",
      "execution_count": null,
      "outputs": []
    },
    {
      "metadata": {
        "trusted": true
      },
      "cell_type": "code",
      "source": "",
      "execution_count": null,
      "outputs": []
    },
    {
      "metadata": {
        "trusted": true
      },
      "cell_type": "code",
      "source": "",
      "execution_count": null,
      "outputs": []
    }
  ],
  "metadata": {
    "kernelspec": {
      "name": "python36",
      "display_name": "Python 3.6",
      "language": "python"
    },
    "language_info": {
      "mimetype": "text/x-python",
      "nbconvert_exporter": "python",
      "name": "python",
      "pygments_lexer": "ipython3",
      "version": "3.6.6",
      "file_extension": ".py",
      "codemirror_mode": {
        "version": 3,
        "name": "ipython"
      }
    }
  },
  "nbformat": 4,
  "nbformat_minor": 2
}